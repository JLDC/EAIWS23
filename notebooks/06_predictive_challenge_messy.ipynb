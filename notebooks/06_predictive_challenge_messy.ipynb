{
 "cells": [
  {
   "cell_type": "code",
   "execution_count": 803,
   "metadata": {},
   "outputs": [],
   "source": [
    "import numpy as np\n",
    "import pandas as pd\n",
    "\n",
    "import matplotlib.pyplot as plt\n",
    "\n",
    "from statsmodels.tsa.seasonal import seasonal_decompose, STL\n",
    "# from geopy.geocoders import Nominatim\n",
    "\n",
    "from tqdm import tqdm"
   ]
  },
  {
   "cell_type": "code",
   "execution_count": 804,
   "metadata": {},
   "outputs": [],
   "source": [
    "df = pd.read_pickle(\"train.pkl\")\n",
    "df_test = pd.read_pickle(\"test.pkl\")\n",
    "\n",
    "df.rename(columns={\"PM2.5_target\": \"y\"}, inplace=True)\n",
    "df_test.rename(columns={\"PM2.5_target\": \"y\"}, inplace=True)\n",
    "df.rename(columns={c: c.replace(\" \", \"_\") for c in df.columns}, inplace=True)\n",
    "df_test.rename(columns={c: c.replace(\" \", \"_\") for c in df_test.columns}, inplace=True)"
   ]
  },
  {
   "cell_type": "code",
   "execution_count": 805,
   "metadata": {},
   "outputs": [],
   "source": [
    "# Add year, month, day, hour columns (as dummies)\n",
    "df[\"year\"] = df.index.get_level_values(\"date\").year\n",
    "df[\"month\"] = df.index.get_level_values(\"date\").month\n",
    "df[\"day\"] = df.index.get_level_values(\"date\").day\n",
    "df[\"hour\"] = df.index.get_level_values(\"date\").hour\n",
    "\n",
    "df = pd.get_dummies(df, columns=[\"month\", \"day\", \"hour\"], drop_first=True)\n",
    "\n",
    "# Drop columns with only NaNs\n",
    "df.dropna(axis=1, how=\"all\", inplace=True)\n",
    "\n",
    "\n",
    "# # Add year, month, day, hour columns (as dummies)\n",
    "# df_test[\"year\"] = df_test.index.get_level_values(\"date\").year\n",
    "# df_test[\"month\"] = df_test.index.get_level_values(\"date\").month\n",
    "# df_test[\"day\"] = df_test.index.get_level_values(\"date\").day\n",
    "# df_test[\"hour\"] = df_test.index.get_level_values(\"date\").hour\n",
    "\n",
    "# df_test = pd.get_dummies(df_test, columns=[\"month\", \"day\", \"hour\"], drop_first=True)"
   ]
  },
  {
   "cell_type": "code",
   "execution_count": 806,
   "metadata": {},
   "outputs": [],
   "source": [
    "# Keep only data from 2018 onwards\n",
    "df = df.loc[df.index.get_level_values(\"date\") >= \"2018-01-01\"]\n",
    "\n",
    "# Redefine test / true\n",
    "df_test = df.loc[df.index.get_level_values(\"date\") >= \"2021-04-01\"].copy()\n",
    "df = df.loc[df.index.get_level_values(\"date\") < \"2021-04-01\"].copy()"
   ]
  },
  {
   "cell_type": "code",
   "execution_count": 811,
   "metadata": {},
   "outputs": [],
   "source": [
    "class ModelEvaluation:\n",
    "    def __init__(self, test_full, y_col=\"y\"):\n",
    "        test_full = test_full.sort_index(level=[\"date\", \"city\"])\n",
    "        self.index = test_full.index\n",
    "        self.y = test_full[y_col].values\n",
    "\n",
    "    def compare(self, y_pred):\n",
    "        y_pred = y_pred.sort_index(level=[\"date\", \"city\"])\n",
    "        \n",
    "        if np.any(y_pred.index != self.index):\n",
    "            raise ValueError(\"Indices do not match\")\n",
    "        \n",
    "        if y_pred.shape != self.y.shape:\n",
    "            raise ValueError(\"Shapes do not match\")\n",
    "        \n",
    "        \n",
    "        losses = pd.DataFrame({\"loss\": (y_pred - self.y) ** 2}, index=self.index)\n",
    "        total = losses[\"loss\"].mean()\n",
    "        return pd.concat([losses.groupby(\"city\").mean(), \n",
    "                          pd.DataFrame({\"loss\": total}, index=[\"All\"])])"
   ]
  },
  {
   "cell_type": "code",
   "execution_count": 813,
   "metadata": {},
   "outputs": [],
   "source": [
    "results = []"
   ]
  },
  {
   "cell_type": "code",
   "execution_count": 814,
   "metadata": {},
   "outputs": [
    {
     "data": {
      "text/html": [
       "<div>\n",
       "<style scoped>\n",
       "    .dataframe tbody tr th:only-of-type {\n",
       "        vertical-align: middle;\n",
       "    }\n",
       "\n",
       "    .dataframe tbody tr th {\n",
       "        vertical-align: top;\n",
       "    }\n",
       "\n",
       "    .dataframe thead th {\n",
       "        text-align: right;\n",
       "    }\n",
       "</style>\n",
       "<table border=\"1\" class=\"dataframe\">\n",
       "  <thead>\n",
       "    <tr style=\"text-align: right;\">\n",
       "      <th></th>\n",
       "      <th>loss</th>\n",
       "    </tr>\n",
       "  </thead>\n",
       "  <tbody>\n",
       "    <tr>\n",
       "      <th>Agra</th>\n",
       "      <td>5429.688227</td>\n",
       "    </tr>\n",
       "    <tr>\n",
       "      <th>Ahmedabad</th>\n",
       "      <td>1523.643360</td>\n",
       "    </tr>\n",
       "    <tr>\n",
       "      <th>Bengaluru</th>\n",
       "      <td>2560.966966</td>\n",
       "    </tr>\n",
       "    <tr>\n",
       "      <th>Chennai</th>\n",
       "      <td>3087.826349</td>\n",
       "    </tr>\n",
       "    <tr>\n",
       "      <th>Delhi</th>\n",
       "      <td>8269.548319</td>\n",
       "    </tr>\n",
       "    <tr>\n",
       "      <th>Hyderabad</th>\n",
       "      <td>2457.430640</td>\n",
       "    </tr>\n",
       "    <tr>\n",
       "      <th>Kanpur</th>\n",
       "      <td>3288.652046</td>\n",
       "    </tr>\n",
       "    <tr>\n",
       "      <th>Kolkata</th>\n",
       "      <td>2199.211131</td>\n",
       "    </tr>\n",
       "    <tr>\n",
       "      <th>Lucknow</th>\n",
       "      <td>2501.396410</td>\n",
       "    </tr>\n",
       "    <tr>\n",
       "      <th>Mumbai</th>\n",
       "      <td>2062.667914</td>\n",
       "    </tr>\n",
       "    <tr>\n",
       "      <th>Noida</th>\n",
       "      <td>7868.440973</td>\n",
       "    </tr>\n",
       "    <tr>\n",
       "      <th>Patna</th>\n",
       "      <td>2626.056002</td>\n",
       "    </tr>\n",
       "    <tr>\n",
       "      <th>All</th>\n",
       "      <td>3653.128993</td>\n",
       "    </tr>\n",
       "  </tbody>\n",
       "</table>\n",
       "</div>"
      ],
      "text/plain": [
       "                  loss\n",
       "Agra       5429.688227\n",
       "Ahmedabad  1523.643360\n",
       "Bengaluru  2560.966966\n",
       "Chennai    3087.826349\n",
       "Delhi      8269.548319\n",
       "Hyderabad  2457.430640\n",
       "Kanpur     3288.652046\n",
       "Kolkata    2199.211131\n",
       "Lucknow    2501.396410\n",
       "Mumbai     2062.667914\n",
       "Noida      7868.440973\n",
       "Patna      2626.056002\n",
       "All        3653.128993"
      ]
     },
     "execution_count": 814,
     "metadata": {},
     "output_type": "execute_result"
    }
   ],
   "source": [
    "# Predict using mean of all train data\n",
    "df_test[\"y\"] = df[\"y\"].mean()\n",
    "\n",
    "meval.compare(df_test[\"y\"])"
   ]
  },
  {
   "cell_type": "code",
   "execution_count": 815,
   "metadata": {},
   "outputs": [
    {
     "data": {
      "text/html": [
       "<div>\n",
       "<style scoped>\n",
       "    .dataframe tbody tr th:only-of-type {\n",
       "        vertical-align: middle;\n",
       "    }\n",
       "\n",
       "    .dataframe tbody tr th {\n",
       "        vertical-align: top;\n",
       "    }\n",
       "\n",
       "    .dataframe thead th {\n",
       "        text-align: right;\n",
       "    }\n",
       "</style>\n",
       "<table border=\"1\" class=\"dataframe\">\n",
       "  <thead>\n",
       "    <tr style=\"text-align: right;\">\n",
       "      <th></th>\n",
       "      <th>loss</th>\n",
       "    </tr>\n",
       "  </thead>\n",
       "  <tbody>\n",
       "    <tr>\n",
       "      <th>Agra</th>\n",
       "      <td>5646.034846</td>\n",
       "    </tr>\n",
       "    <tr>\n",
       "      <th>Ahmedabad</th>\n",
       "      <td>720.702537</td>\n",
       "    </tr>\n",
       "    <tr>\n",
       "      <th>Bengaluru</th>\n",
       "      <td>880.215932</td>\n",
       "    </tr>\n",
       "    <tr>\n",
       "      <th>Chennai</th>\n",
       "      <td>1198.096536</td>\n",
       "    </tr>\n",
       "    <tr>\n",
       "      <th>Delhi</th>\n",
       "      <td>9577.699547</td>\n",
       "    </tr>\n",
       "    <tr>\n",
       "      <th>Hyderabad</th>\n",
       "      <td>994.471867</td>\n",
       "    </tr>\n",
       "    <tr>\n",
       "      <th>Kanpur</th>\n",
       "      <td>2868.545556</td>\n",
       "    </tr>\n",
       "    <tr>\n",
       "      <th>Kolkata</th>\n",
       "      <td>1216.064405</td>\n",
       "    </tr>\n",
       "    <tr>\n",
       "      <th>Lucknow</th>\n",
       "      <td>2300.179302</td>\n",
       "    </tr>\n",
       "    <tr>\n",
       "      <th>Mumbai</th>\n",
       "      <td>838.812595</td>\n",
       "    </tr>\n",
       "    <tr>\n",
       "      <th>Noida</th>\n",
       "      <td>8745.236007</td>\n",
       "    </tr>\n",
       "    <tr>\n",
       "      <th>Patna</th>\n",
       "      <td>2430.116804</td>\n",
       "    </tr>\n",
       "    <tr>\n",
       "      <th>All</th>\n",
       "      <td>3113.012606</td>\n",
       "    </tr>\n",
       "  </tbody>\n",
       "</table>\n",
       "</div>"
      ],
      "text/plain": [
       "                  loss\n",
       "Agra       5646.034846\n",
       "Ahmedabad   720.702537\n",
       "Bengaluru   880.215932\n",
       "Chennai    1198.096536\n",
       "Delhi      9577.699547\n",
       "Hyderabad   994.471867\n",
       "Kanpur     2868.545556\n",
       "Kolkata    1216.064405\n",
       "Lucknow    2300.179302\n",
       "Mumbai      838.812595\n",
       "Noida      8745.236007\n",
       "Patna      2430.116804\n",
       "All        3113.012606"
      ]
     },
     "execution_count": 815,
     "metadata": {},
     "output_type": "execute_result"
    }
   ],
   "source": [
    "# Predict using mean of logs of all train data\n",
    "df_test[\"y\"] = np.exp(np.log(df[\"y\"]).mean())\n",
    "\n",
    "meval.compare(df_test[\"y\"])"
   ]
  },
  {
   "cell_type": "code",
   "execution_count": 816,
   "metadata": {},
   "outputs": [
    {
     "data": {
      "text/html": [
       "<div>\n",
       "<style scoped>\n",
       "    .dataframe tbody tr th:only-of-type {\n",
       "        vertical-align: middle;\n",
       "    }\n",
       "\n",
       "    .dataframe tbody tr th {\n",
       "        vertical-align: top;\n",
       "    }\n",
       "\n",
       "    .dataframe thead th {\n",
       "        text-align: right;\n",
       "    }\n",
       "</style>\n",
       "<table border=\"1\" class=\"dataframe\">\n",
       "  <thead>\n",
       "    <tr style=\"text-align: right;\">\n",
       "      <th></th>\n",
       "      <th>loss</th>\n",
       "    </tr>\n",
       "  </thead>\n",
       "  <tbody>\n",
       "    <tr>\n",
       "      <th>Agra</th>\n",
       "      <td>5774.999397</td>\n",
       "    </tr>\n",
       "    <tr>\n",
       "      <th>Ahmedabad</th>\n",
       "      <td>938.582550</td>\n",
       "    </tr>\n",
       "    <tr>\n",
       "      <th>Bengaluru</th>\n",
       "      <td>338.426863</td>\n",
       "    </tr>\n",
       "    <tr>\n",
       "      <th>Chennai</th>\n",
       "      <td>737.686994</td>\n",
       "    </tr>\n",
       "    <tr>\n",
       "      <th>Delhi</th>\n",
       "      <td>8324.913779</td>\n",
       "    </tr>\n",
       "    <tr>\n",
       "      <th>Hyderabad</th>\n",
       "      <td>711.689308</td>\n",
       "    </tr>\n",
       "    <tr>\n",
       "      <th>Kanpur</th>\n",
       "      <td>4875.674817</td>\n",
       "    </tr>\n",
       "    <tr>\n",
       "      <th>Kolkata</th>\n",
       "      <td>1663.304201</td>\n",
       "    </tr>\n",
       "    <tr>\n",
       "      <th>Lucknow</th>\n",
       "      <td>4330.385836</td>\n",
       "    </tr>\n",
       "    <tr>\n",
       "      <th>Mumbai</th>\n",
       "      <td>638.737788</td>\n",
       "    </tr>\n",
       "    <tr>\n",
       "      <th>Noida</th>\n",
       "      <td>8656.013250</td>\n",
       "    </tr>\n",
       "    <tr>\n",
       "      <th>Patna</th>\n",
       "      <td>3890.557911</td>\n",
       "    </tr>\n",
       "    <tr>\n",
       "      <th>All</th>\n",
       "      <td>3402.151876</td>\n",
       "    </tr>\n",
       "  </tbody>\n",
       "</table>\n",
       "</div>"
      ],
      "text/plain": [
       "                  loss\n",
       "Agra       5774.999397\n",
       "Ahmedabad   938.582550\n",
       "Bengaluru   338.426863\n",
       "Chennai     737.686994\n",
       "Delhi      8324.913779\n",
       "Hyderabad   711.689308\n",
       "Kanpur     4875.674817\n",
       "Kolkata    1663.304201\n",
       "Lucknow    4330.385836\n",
       "Mumbai      638.737788\n",
       "Noida      8656.013250\n",
       "Patna      3890.557911\n",
       "All        3402.151876"
      ]
     },
     "execution_count": 816,
     "metadata": {},
     "output_type": "execute_result"
    }
   ],
   "source": [
    "# Past means by city\n",
    "dfg = df.groupby(\"city\").y.mean()\n",
    "mapping = {city: dfg[city] for city in dfg.index}\n",
    "df_test[\"y\"] = df_test.index.get_level_values(\"city\").map(lambda x: mapping[x])\n",
    "\n",
    "meval.compare(df_test[\"y\"])"
   ]
  },
  {
   "cell_type": "code",
   "execution_count": 817,
   "metadata": {},
   "outputs": [],
   "source": [
    "df[\"logy\"] = np.log(df.y)"
   ]
  },
  {
   "cell_type": "code",
   "execution_count": 818,
   "metadata": {},
   "outputs": [
    {
     "data": {
      "text/html": [
       "<div>\n",
       "<style scoped>\n",
       "    .dataframe tbody tr th:only-of-type {\n",
       "        vertical-align: middle;\n",
       "    }\n",
       "\n",
       "    .dataframe tbody tr th {\n",
       "        vertical-align: top;\n",
       "    }\n",
       "\n",
       "    .dataframe thead th {\n",
       "        text-align: right;\n",
       "    }\n",
       "</style>\n",
       "<table border=\"1\" class=\"dataframe\">\n",
       "  <thead>\n",
       "    <tr style=\"text-align: right;\">\n",
       "      <th></th>\n",
       "      <th>loss</th>\n",
       "    </tr>\n",
       "  </thead>\n",
       "  <tbody>\n",
       "    <tr>\n",
       "      <th>Agra</th>\n",
       "      <td>5381.461364</td>\n",
       "    </tr>\n",
       "    <tr>\n",
       "      <th>Ahmedabad</th>\n",
       "      <td>710.335213</td>\n",
       "    </tr>\n",
       "    <tr>\n",
       "      <th>Bengaluru</th>\n",
       "      <td>299.658375</td>\n",
       "    </tr>\n",
       "    <tr>\n",
       "      <th>Chennai</th>\n",
       "      <td>508.919150</td>\n",
       "    </tr>\n",
       "    <tr>\n",
       "      <th>Delhi</th>\n",
       "      <td>8137.932829</td>\n",
       "    </tr>\n",
       "    <tr>\n",
       "      <th>Hyderabad</th>\n",
       "      <td>622.609682</td>\n",
       "    </tr>\n",
       "    <tr>\n",
       "      <th>Kanpur</th>\n",
       "      <td>3014.084294</td>\n",
       "    </tr>\n",
       "    <tr>\n",
       "      <th>Kolkata</th>\n",
       "      <td>1130.394814</td>\n",
       "    </tr>\n",
       "    <tr>\n",
       "      <th>Lucknow</th>\n",
       "      <td>2707.241814</td>\n",
       "    </tr>\n",
       "    <tr>\n",
       "      <th>Mumbai</th>\n",
       "      <td>711.839725</td>\n",
       "    </tr>\n",
       "    <tr>\n",
       "      <th>Noida</th>\n",
       "      <td>7847.680184</td>\n",
       "    </tr>\n",
       "    <tr>\n",
       "      <th>Patna</th>\n",
       "      <td>2509.444041</td>\n",
       "    </tr>\n",
       "    <tr>\n",
       "      <th>All</th>\n",
       "      <td>2793.101530</td>\n",
       "    </tr>\n",
       "  </tbody>\n",
       "</table>\n",
       "</div>"
      ],
      "text/plain": [
       "                  loss\n",
       "Agra       5381.461364\n",
       "Ahmedabad   710.335213\n",
       "Bengaluru   299.658375\n",
       "Chennai     508.919150\n",
       "Delhi      8137.932829\n",
       "Hyderabad   622.609682\n",
       "Kanpur     3014.084294\n",
       "Kolkata    1130.394814\n",
       "Lucknow    2707.241814\n",
       "Mumbai      711.839725\n",
       "Noida      7847.680184\n",
       "Patna      2509.444041\n",
       "All        2793.101530"
      ]
     },
     "execution_count": 818,
     "metadata": {},
     "output_type": "execute_result"
    }
   ],
   "source": [
    "# Past means of logs by city\n",
    "dfg = df.groupby(\"city\").logy.mean()\n",
    "mapping = {city: np.exp(dfg[city]) for city in dfg.index}\n",
    "df_test[\"y\"] = df_test.index.get_level_values(\"city\").map(lambda x: mapping[x])\n",
    "\n",
    "meval.compare(df_test[\"y\"])"
   ]
  },
  {
   "cell_type": "code",
   "execution_count": 819,
   "metadata": {},
   "outputs": [
    {
     "data": {
      "text/plain": [
       "THC       0.963641\n",
       "HCHO      0.944002\n",
       "Hg        0.942861\n",
       "MH        0.936991\n",
       "CH4       0.817009\n",
       "            ...   \n",
       "day_5     0.000000\n",
       "day_4     0.000000\n",
       "day_3     0.000000\n",
       "day_2     0.000000\n",
       "day_10    0.000000\n",
       "Length: 97, dtype: float64"
      ]
     },
     "execution_count": 819,
     "metadata": {},
     "output_type": "execute_result"
    }
   ],
   "source": [
    "# Missing values per column\n",
    "df.isna().mean().sort_values(ascending=False)"
   ]
  },
  {
   "cell_type": "code",
   "execution_count": 820,
   "metadata": {},
   "outputs": [
    {
     "data": {
      "text/plain": [
       "THC       0.963641\n",
       "HCHO      0.944002\n",
       "Hg        0.942861\n",
       "MH        0.936991\n",
       "CH4       0.817009\n",
       "            ...   \n",
       "day_5     0.000000\n",
       "day_4     0.000000\n",
       "day_3     0.000000\n",
       "day_2     0.000000\n",
       "day_10    0.000000\n",
       "Length: 97, dtype: float64"
      ]
     },
     "execution_count": 820,
     "metadata": {},
     "output_type": "execute_result"
    }
   ],
   "source": [
    "df.isna().mean().sort_values(ascending=False) "
   ]
  },
  {
   "cell_type": "code",
   "execution_count": 821,
   "metadata": {},
   "outputs": [],
   "source": [
    "# # Add year, month, day, hour columns (as dummies)\n",
    "# df[\"year\"] = df.index.get_level_values(\"date\").year\n",
    "# df[\"month\"] = df.index.get_level_values(\"date\").month\n",
    "# df[\"day\"] = df.index.get_level_values(\"date\").day\n",
    "# df[\"hour\"] = df.index.get_level_values(\"date\").hour\n",
    "\n",
    "# df = pd.get_dummies(df, columns=[\"month\", \"day\", \"hour\"], drop_first=True)\n",
    "\n",
    "# # Add year, month, day, hour columns (as dummies)\n",
    "# df_test[\"year\"] = df_test.index.get_level_values(\"date\").year\n",
    "# df_test[\"month\"] = df_test.index.get_level_values(\"date\").month\n",
    "# df_test[\"day\"] = df_test.index.get_level_values(\"date\").day\n",
    "# df_test[\"hour\"] = df_test.index.get_level_values(\"date\").hour\n",
    "\n",
    "# df_test = pd.get_dummies(df_test, columns=[\"month\", \"day\", \"hour\"], drop_first=True)"
   ]
  },
  {
   "cell_type": "code",
   "execution_count": 822,
   "metadata": {},
   "outputs": [],
   "source": [
    "from lightgbm import LGBMRegressor"
   ]
  },
  {
   "cell_type": "code",
   "execution_count": 823,
   "metadata": {},
   "outputs": [],
   "source": [
    "# Iteratively, fill features using LightGBM trained on all features that have no NaNs\n",
    "features = df.drop(columns=[\"y\", \"PM2.5\", \"logy\"]).isna().mean().sort_values()\n",
    "features_full = features[features == 0].index.tolist()\n",
    "features_to_impute = features[features > 0].index.tolist()"
   ]
  },
  {
   "cell_type": "code",
   "execution_count": 824,
   "metadata": {},
   "outputs": [
    {
     "name": "stderr",
     "output_type": "stream",
     "text": [
      "100%|██████████| 27/27 [00:25<00:00,  1.07it/s]\n"
     ]
    }
   ],
   "source": [
    "for feature in tqdm(features_to_impute, total=len(features_to_impute)):\n",
    "    # Make LGBM data\n",
    "    X = df[features_full]\n",
    "    X_test = df_test[features_full]\n",
    "    y = df[feature]\n",
    "\n",
    "    # Train LGBM\n",
    "    lgbm = LGBMRegressor(verbose=0, n_jobs=-1).fit(X, y)\n",
    "    y_pred = lgbm.predict(X)\n",
    "    y_pred_test = lgbm.predict(X_test)\n",
    "\n",
    "    # Fill NaNs\n",
    "    df[feature].fillna(pd.Series(y_pred, index=df.index), inplace=True)\n",
    "    df_test[feature].fillna(pd.Series(y_pred_test, index=df_test.index), inplace=True)\n",
    "\n",
    "    # We can now use this feature for imputing other features\n",
    "    features_full.append(feature)"
   ]
  },
  {
   "cell_type": "code",
   "execution_count": 825,
   "metadata": {},
   "outputs": [],
   "source": [
    "# Replace NaNs from y in a very non-sophisticated way\n",
    "df.y.fillna(df.y.mean(), inplace=True)\n",
    "df.logy = np.log(df.y)"
   ]
  },
  {
   "cell_type": "code",
   "execution_count": 826,
   "metadata": {},
   "outputs": [],
   "source": [
    "from sklearn.linear_model import LinearRegression"
   ]
  },
  {
   "cell_type": "code",
   "execution_count": 827,
   "metadata": {},
   "outputs": [],
   "source": [
    "features = [c for c in df.columns if c not in [\"y\", \"PM2.5\", \"logy\"]]\n",
    "out1 = [\"y\"]\n",
    "out2 = [\"logy\"]"
   ]
  },
  {
   "cell_type": "code",
   "execution_count": 828,
   "metadata": {},
   "outputs": [
    {
     "data": {
      "text/html": [
       "<div>\n",
       "<style scoped>\n",
       "    .dataframe tbody tr th:only-of-type {\n",
       "        vertical-align: middle;\n",
       "    }\n",
       "\n",
       "    .dataframe tbody tr th {\n",
       "        vertical-align: top;\n",
       "    }\n",
       "\n",
       "    .dataframe thead th {\n",
       "        text-align: right;\n",
       "    }\n",
       "</style>\n",
       "<table border=\"1\" class=\"dataframe\">\n",
       "  <thead>\n",
       "    <tr style=\"text-align: right;\">\n",
       "      <th></th>\n",
       "      <th>loss</th>\n",
       "    </tr>\n",
       "  </thead>\n",
       "  <tbody>\n",
       "    <tr>\n",
       "      <th>Agra</th>\n",
       "      <td>3085.998468</td>\n",
       "    </tr>\n",
       "    <tr>\n",
       "      <th>Ahmedabad</th>\n",
       "      <td>1141.423081</td>\n",
       "    </tr>\n",
       "    <tr>\n",
       "      <th>Bengaluru</th>\n",
       "      <td>951.395782</td>\n",
       "    </tr>\n",
       "    <tr>\n",
       "      <th>Chennai</th>\n",
       "      <td>852.677924</td>\n",
       "    </tr>\n",
       "    <tr>\n",
       "      <th>Delhi</th>\n",
       "      <td>2568.258359</td>\n",
       "    </tr>\n",
       "    <tr>\n",
       "      <th>Hyderabad</th>\n",
       "      <td>445.103605</td>\n",
       "    </tr>\n",
       "    <tr>\n",
       "      <th>Kanpur</th>\n",
       "      <td>2193.242798</td>\n",
       "    </tr>\n",
       "    <tr>\n",
       "      <th>Kolkata</th>\n",
       "      <td>513.827201</td>\n",
       "    </tr>\n",
       "    <tr>\n",
       "      <th>Lucknow</th>\n",
       "      <td>1648.992897</td>\n",
       "    </tr>\n",
       "    <tr>\n",
       "      <th>Mumbai</th>\n",
       "      <td>459.755594</td>\n",
       "    </tr>\n",
       "    <tr>\n",
       "      <th>Noida</th>\n",
       "      <td>3598.616376</td>\n",
       "    </tr>\n",
       "    <tr>\n",
       "      <th>Patna</th>\n",
       "      <td>893.901601</td>\n",
       "    </tr>\n",
       "    <tr>\n",
       "      <th>All</th>\n",
       "      <td>1525.562853</td>\n",
       "    </tr>\n",
       "  </tbody>\n",
       "</table>\n",
       "</div>"
      ],
      "text/plain": [
       "                  loss\n",
       "Agra       3085.998468\n",
       "Ahmedabad  1141.423081\n",
       "Bengaluru   951.395782\n",
       "Chennai     852.677924\n",
       "Delhi      2568.258359\n",
       "Hyderabad   445.103605\n",
       "Kanpur     2193.242798\n",
       "Kolkata     513.827201\n",
       "Lucknow    1648.992897\n",
       "Mumbai      459.755594\n",
       "Noida      3598.616376\n",
       "Patna       893.901601\n",
       "All        1525.562853"
      ]
     },
     "execution_count": 828,
     "metadata": {},
     "output_type": "execute_result"
    }
   ],
   "source": [
    "# Linear regression on all features\n",
    "X = df[features]\n",
    "features = X.columns.tolist()\n",
    "y = df[out1]\n",
    "\n",
    "ols = LinearRegression().fit(X, y)\n",
    "\n",
    "y_pred = ols.predict(df_test[features])\n",
    "meval.compare(pd.DataFrame(y_pred, index=df_test.index, columns=[\"y\"])[\"y\"])"
   ]
  },
  {
   "cell_type": "code",
   "execution_count": 829,
   "metadata": {},
   "outputs": [
    {
     "data": {
      "text/html": [
       "<div>\n",
       "<style scoped>\n",
       "    .dataframe tbody tr th:only-of-type {\n",
       "        vertical-align: middle;\n",
       "    }\n",
       "\n",
       "    .dataframe tbody tr th {\n",
       "        vertical-align: top;\n",
       "    }\n",
       "\n",
       "    .dataframe thead th {\n",
       "        text-align: right;\n",
       "    }\n",
       "</style>\n",
       "<table border=\"1\" class=\"dataframe\">\n",
       "  <thead>\n",
       "    <tr style=\"text-align: right;\">\n",
       "      <th></th>\n",
       "      <th>loss</th>\n",
       "    </tr>\n",
       "  </thead>\n",
       "  <tbody>\n",
       "    <tr>\n",
       "      <th>Agra</th>\n",
       "      <td>3363.870080</td>\n",
       "    </tr>\n",
       "    <tr>\n",
       "      <th>Ahmedabad</th>\n",
       "      <td>562.532243</td>\n",
       "    </tr>\n",
       "    <tr>\n",
       "      <th>Bengaluru</th>\n",
       "      <td>235.432143</td>\n",
       "    </tr>\n",
       "    <tr>\n",
       "      <th>Chennai</th>\n",
       "      <td>336.810324</td>\n",
       "    </tr>\n",
       "    <tr>\n",
       "      <th>Delhi</th>\n",
       "      <td>2534.145712</td>\n",
       "    </tr>\n",
       "    <tr>\n",
       "      <th>Hyderabad</th>\n",
       "      <td>248.542677</td>\n",
       "    </tr>\n",
       "    <tr>\n",
       "      <th>Kanpur</th>\n",
       "      <td>1538.837756</td>\n",
       "    </tr>\n",
       "    <tr>\n",
       "      <th>Kolkata</th>\n",
       "      <td>379.160340</td>\n",
       "    </tr>\n",
       "    <tr>\n",
       "      <th>Lucknow</th>\n",
       "      <td>1013.576806</td>\n",
       "    </tr>\n",
       "    <tr>\n",
       "      <th>Mumbai</th>\n",
       "      <td>249.326675</td>\n",
       "    </tr>\n",
       "    <tr>\n",
       "      <th>Noida</th>\n",
       "      <td>3707.960423</td>\n",
       "    </tr>\n",
       "    <tr>\n",
       "      <th>Patna</th>\n",
       "      <td>816.430952</td>\n",
       "    </tr>\n",
       "    <tr>\n",
       "      <th>All</th>\n",
       "      <td>1243.810032</td>\n",
       "    </tr>\n",
       "  </tbody>\n",
       "</table>\n",
       "</div>"
      ],
      "text/plain": [
       "                  loss\n",
       "Agra       3363.870080\n",
       "Ahmedabad   562.532243\n",
       "Bengaluru   235.432143\n",
       "Chennai     336.810324\n",
       "Delhi      2534.145712\n",
       "Hyderabad   248.542677\n",
       "Kanpur     1538.837756\n",
       "Kolkata     379.160340\n",
       "Lucknow    1013.576806\n",
       "Mumbai      249.326675\n",
       "Noida      3707.960423\n",
       "Patna       816.430952\n",
       "All        1243.810032"
      ]
     },
     "execution_count": 829,
     "metadata": {},
     "output_type": "execute_result"
    }
   ],
   "source": [
    "# Linear regression on all features but log output\n",
    "X = df[features]\n",
    "features = X.columns.tolist()\n",
    "y = df[out2]\n",
    "\n",
    "ols = LinearRegression().fit(X, y)\n",
    "\n",
    "y_pred = np.exp(ols.predict(df_test[features]))\n",
    "meval.compare(pd.DataFrame(y_pred, index=df_test.index, columns=[\"y\"])[\"y\"])"
   ]
  },
  {
   "cell_type": "code",
   "execution_count": 830,
   "metadata": {},
   "outputs": [
    {
     "data": {
      "text/html": [
       "<div>\n",
       "<style scoped>\n",
       "    .dataframe tbody tr th:only-of-type {\n",
       "        vertical-align: middle;\n",
       "    }\n",
       "\n",
       "    .dataframe tbody tr th {\n",
       "        vertical-align: top;\n",
       "    }\n",
       "\n",
       "    .dataframe thead th {\n",
       "        text-align: right;\n",
       "    }\n",
       "</style>\n",
       "<table border=\"1\" class=\"dataframe\">\n",
       "  <thead>\n",
       "    <tr style=\"text-align: right;\">\n",
       "      <th></th>\n",
       "      <th>loss</th>\n",
       "    </tr>\n",
       "  </thead>\n",
       "  <tbody>\n",
       "    <tr>\n",
       "      <th>Agra</th>\n",
       "      <td>2543.378051</td>\n",
       "    </tr>\n",
       "    <tr>\n",
       "      <th>Ahmedabad</th>\n",
       "      <td>494.152069</td>\n",
       "    </tr>\n",
       "    <tr>\n",
       "      <th>Bengaluru</th>\n",
       "      <td>251.985900</td>\n",
       "    </tr>\n",
       "    <tr>\n",
       "      <th>Chennai</th>\n",
       "      <td>453.317575</td>\n",
       "    </tr>\n",
       "    <tr>\n",
       "      <th>Delhi</th>\n",
       "      <td>1263.904541</td>\n",
       "    </tr>\n",
       "    <tr>\n",
       "      <th>Hyderabad</th>\n",
       "      <td>338.280371</td>\n",
       "    </tr>\n",
       "    <tr>\n",
       "      <th>Kanpur</th>\n",
       "      <td>3207.139901</td>\n",
       "    </tr>\n",
       "    <tr>\n",
       "      <th>Kolkata</th>\n",
       "      <td>279.236161</td>\n",
       "    </tr>\n",
       "    <tr>\n",
       "      <th>Lucknow</th>\n",
       "      <td>3133.967181</td>\n",
       "    </tr>\n",
       "    <tr>\n",
       "      <th>Mumbai</th>\n",
       "      <td>249.200316</td>\n",
       "    </tr>\n",
       "    <tr>\n",
       "      <th>Noida</th>\n",
       "      <td>2981.779123</td>\n",
       "    </tr>\n",
       "    <tr>\n",
       "      <th>Patna</th>\n",
       "      <td>839.566065</td>\n",
       "    </tr>\n",
       "    <tr>\n",
       "      <th>All</th>\n",
       "      <td>1333.677987</td>\n",
       "    </tr>\n",
       "  </tbody>\n",
       "</table>\n",
       "</div>"
      ],
      "text/plain": [
       "                  loss\n",
       "Agra       2543.378051\n",
       "Ahmedabad   494.152069\n",
       "Bengaluru   251.985900\n",
       "Chennai     453.317575\n",
       "Delhi      1263.904541\n",
       "Hyderabad   338.280371\n",
       "Kanpur     3207.139901\n",
       "Kolkata     279.236161\n",
       "Lucknow    3133.967181\n",
       "Mumbai      249.200316\n",
       "Noida      2981.779123\n",
       "Patna       839.566065\n",
       "All        1333.677987"
      ]
     },
     "execution_count": 830,
     "metadata": {},
     "output_type": "execute_result"
    }
   ],
   "source": [
    "# LightGBM on all features\n",
    "lgbm = LGBMRegressor(verbose=0).fit(X, df[out1])\n",
    "y_pred = lgbm.predict(df_test[features])\n",
    "meval.compare(pd.DataFrame(y_pred, index=df_test.index, columns=[\"y\"])[\"y\"])"
   ]
  },
  {
   "cell_type": "code",
   "execution_count": 831,
   "metadata": {},
   "outputs": [
    {
     "data": {
      "text/html": [
       "<div>\n",
       "<style scoped>\n",
       "    .dataframe tbody tr th:only-of-type {\n",
       "        vertical-align: middle;\n",
       "    }\n",
       "\n",
       "    .dataframe tbody tr th {\n",
       "        vertical-align: top;\n",
       "    }\n",
       "\n",
       "    .dataframe thead th {\n",
       "        text-align: right;\n",
       "    }\n",
       "</style>\n",
       "<table border=\"1\" class=\"dataframe\">\n",
       "  <thead>\n",
       "    <tr style=\"text-align: right;\">\n",
       "      <th></th>\n",
       "      <th>loss</th>\n",
       "    </tr>\n",
       "  </thead>\n",
       "  <tbody>\n",
       "    <tr>\n",
       "      <th>Agra</th>\n",
       "      <td>2617.444075</td>\n",
       "    </tr>\n",
       "    <tr>\n",
       "      <th>Ahmedabad</th>\n",
       "      <td>446.399289</td>\n",
       "    </tr>\n",
       "    <tr>\n",
       "      <th>Bengaluru</th>\n",
       "      <td>189.571959</td>\n",
       "    </tr>\n",
       "    <tr>\n",
       "      <th>Chennai</th>\n",
       "      <td>321.450097</td>\n",
       "    </tr>\n",
       "    <tr>\n",
       "      <th>Delhi</th>\n",
       "      <td>1474.152898</td>\n",
       "    </tr>\n",
       "    <tr>\n",
       "      <th>Hyderabad</th>\n",
       "      <td>171.968787</td>\n",
       "    </tr>\n",
       "    <tr>\n",
       "      <th>Kanpur</th>\n",
       "      <td>2319.610260</td>\n",
       "    </tr>\n",
       "    <tr>\n",
       "      <th>Kolkata</th>\n",
       "      <td>251.930918</td>\n",
       "    </tr>\n",
       "    <tr>\n",
       "      <th>Lucknow</th>\n",
       "      <td>2032.375033</td>\n",
       "    </tr>\n",
       "    <tr>\n",
       "      <th>Mumbai</th>\n",
       "      <td>161.734649</td>\n",
       "    </tr>\n",
       "    <tr>\n",
       "      <th>Noida</th>\n",
       "      <td>2918.580905</td>\n",
       "    </tr>\n",
       "    <tr>\n",
       "      <th>Patna</th>\n",
       "      <td>609.406613</td>\n",
       "    </tr>\n",
       "    <tr>\n",
       "      <th>All</th>\n",
       "      <td>1122.739500</td>\n",
       "    </tr>\n",
       "  </tbody>\n",
       "</table>\n",
       "</div>"
      ],
      "text/plain": [
       "                  loss\n",
       "Agra       2617.444075\n",
       "Ahmedabad   446.399289\n",
       "Bengaluru   189.571959\n",
       "Chennai     321.450097\n",
       "Delhi      1474.152898\n",
       "Hyderabad   171.968787\n",
       "Kanpur     2319.610260\n",
       "Kolkata     251.930918\n",
       "Lucknow    2032.375033\n",
       "Mumbai      161.734649\n",
       "Noida      2918.580905\n",
       "Patna       609.406613\n",
       "All        1122.739500"
      ]
     },
     "execution_count": 831,
     "metadata": {},
     "output_type": "execute_result"
    }
   ],
   "source": [
    "# LightGBM on all features\n",
    "lgbm = LGBMRegressor(verbose=0).fit(X, df[out2])\n",
    "y_pred = np.exp(lgbm.predict(df_test[features]))\n",
    "meval.compare(pd.DataFrame(y_pred, index=df_test.index, columns=[\"y\"])[\"y\"])"
   ]
  },
  {
   "cell_type": "code",
   "execution_count": 832,
   "metadata": {},
   "outputs": [],
   "source": [
    "# What if instead, we use the contemporaneous values of other cities to help in prediction?\n",
    "# Transform dataframe to wide format, using index level city\n",
    "df_test[\"y\"] = meval.y.copy()\n",
    "df_test[\"logy\"] = np.log(df_test[\"y\"])\n",
    "\n",
    "df_wide = df.reset_index().pivot(index=\"date\", columns=\"city\", values=features + out1 + out2)\n",
    "df_wide.columns = df_wide.columns.map('_'.join).str.strip('_')\n",
    "df_wide_test = df_test.reset_index().pivot(index=\"date\", columns=\"city\", values=features + out1 + out2)\n",
    "df_wide_test.columns = df_wide_test.columns.map('_'.join).str.strip('_')\n",
    "\n",
    "features = [c for c in df_wide.columns if not (c.startswith(\"y_\") or c.startswith(\"logy_\"))]"
   ]
  },
  {
   "cell_type": "code",
   "execution_count": 833,
   "metadata": {},
   "outputs": [],
   "source": [
    "df_wide = df_wide.astype(float)\n",
    "df_wide_test = df_wide_test.astype(float)"
   ]
  },
  {
   "cell_type": "code",
   "execution_count": 834,
   "metadata": {},
   "outputs": [],
   "source": [
    "cities = sorted(df.index.get_level_values(\"city\").unique().to_list())\n",
    "out1 = [\"y_\" + city for city in cities]\n",
    "out2 = [\"logy_\" + city for city in cities]"
   ]
  },
  {
   "cell_type": "code",
   "execution_count": 835,
   "metadata": {},
   "outputs": [],
   "source": [
    "pred = pd.DataFrame(index=df_test.index, columns=[\"y\"])"
   ]
  },
  {
   "cell_type": "code",
   "execution_count": 836,
   "metadata": {},
   "outputs": [
    {
     "name": "stderr",
     "output_type": "stream",
     "text": [
      "Fitting models: 100%|██████████| 12/12 [00:14<00:00,  1.21s/city]\n"
     ]
    },
    {
     "data": {
      "text/html": [
       "<div>\n",
       "<style scoped>\n",
       "    .dataframe tbody tr th:only-of-type {\n",
       "        vertical-align: middle;\n",
       "    }\n",
       "\n",
       "    .dataframe tbody tr th {\n",
       "        vertical-align: top;\n",
       "    }\n",
       "\n",
       "    .dataframe thead th {\n",
       "        text-align: right;\n",
       "    }\n",
       "</style>\n",
       "<table border=\"1\" class=\"dataframe\">\n",
       "  <thead>\n",
       "    <tr style=\"text-align: right;\">\n",
       "      <th></th>\n",
       "      <th>loss</th>\n",
       "    </tr>\n",
       "  </thead>\n",
       "  <tbody>\n",
       "    <tr>\n",
       "      <th>Agra</th>\n",
       "      <td>3043.685075</td>\n",
       "    </tr>\n",
       "    <tr>\n",
       "      <th>Ahmedabad</th>\n",
       "      <td>401.451925</td>\n",
       "    </tr>\n",
       "    <tr>\n",
       "      <th>Bengaluru</th>\n",
       "      <td>190.874502</td>\n",
       "    </tr>\n",
       "    <tr>\n",
       "      <th>Chennai</th>\n",
       "      <td>302.468498</td>\n",
       "    </tr>\n",
       "    <tr>\n",
       "      <th>Delhi</th>\n",
       "      <td>1386.074424</td>\n",
       "    </tr>\n",
       "    <tr>\n",
       "      <th>Hyderabad</th>\n",
       "      <td>173.918395</td>\n",
       "    </tr>\n",
       "    <tr>\n",
       "      <th>Kanpur</th>\n",
       "      <td>1620.365897</td>\n",
       "    </tr>\n",
       "    <tr>\n",
       "      <th>Kolkata</th>\n",
       "      <td>218.273452</td>\n",
       "    </tr>\n",
       "    <tr>\n",
       "      <th>Lucknow</th>\n",
       "      <td>802.302701</td>\n",
       "    </tr>\n",
       "    <tr>\n",
       "      <th>Mumbai</th>\n",
       "      <td>180.336749</td>\n",
       "    </tr>\n",
       "    <tr>\n",
       "      <th>Noida</th>\n",
       "      <td>1836.466757</td>\n",
       "    </tr>\n",
       "    <tr>\n",
       "      <th>Patna</th>\n",
       "      <td>760.647661</td>\n",
       "    </tr>\n",
       "    <tr>\n",
       "      <th>All</th>\n",
       "      <td>904.570119</td>\n",
       "    </tr>\n",
       "  </tbody>\n",
       "</table>\n",
       "</div>"
      ],
      "text/plain": [
       "                  loss\n",
       "Agra       3043.685075\n",
       "Ahmedabad   401.451925\n",
       "Bengaluru   190.874502\n",
       "Chennai     302.468498\n",
       "Delhi      1386.074424\n",
       "Hyderabad   173.918395\n",
       "Kanpur     1620.365897\n",
       "Kolkata     218.273452\n",
       "Lucknow     802.302701\n",
       "Mumbai      180.336749\n",
       "Noida      1836.466757\n",
       "Patna       760.647661\n",
       "All         904.570119"
      ]
     },
     "execution_count": 836,
     "metadata": {},
     "output_type": "execute_result"
    }
   ],
   "source": [
    "for city in tqdm(cities, total=len(cities), unit=\"city\", desc=\"Fitting models\"):\n",
    "    # Train LGBM\n",
    "    lgbm = LGBMRegressor(verbose=0).fit(df_wide[features], df_wide[f\"logy_{city}\"])\n",
    "    y_pred = lgbm.predict(df_wide_test[features])\n",
    "    pred.loc[pred.index.get_level_values(\"city\") == city, \"y\"] = np.exp(y_pred)\n",
    "\n",
    "meval.compare(pred[\"y\"])"
   ]
  },
  {
   "cell_type": "code",
   "execution_count": 981,
   "metadata": {},
   "outputs": [],
   "source": [
    "import torch\n",
    "import torch.nn as nn\n",
    "import torch.optim as optim\n",
    "from torch.optim import lr_scheduler\n",
    "\n",
    "from torch.utils.data import Dataset, DataLoader"
   ]
  },
  {
   "cell_type": "code",
   "execution_count": 982,
   "metadata": {},
   "outputs": [],
   "source": [
    "class SimpleLSTM(nn.Module):\n",
    "    def __init__(self, n_inputs, n_hidden, n_outputs=1, num_lstm_layers=2):\n",
    "        super().__init__()\n",
    "        self.n_inputs = n_inputs\n",
    "        self.n_hidden = n_hidden\n",
    "        self.n_outputs = n_outputs\n",
    "\n",
    "        self.lstm = nn.LSTM(n_inputs, n_hidden, num_lstm_layers, batch_first=True)\n",
    "        self.dense = nn.Sequential(\n",
    "            nn.Dropout(0.2),\n",
    "            nn.Linear(n_hidden, n_hidden),\n",
    "            # nn.ReLU(),\n",
    "            # nn.Linear(n_hidden, n_hidden),\n",
    "            nn.ReLU(),\n",
    "            nn.Linear(n_hidden, n_outputs)\n",
    "        )\n",
    "\n",
    "    def forward(self, x):\n",
    "        x, _ = self.lstm(x)\n",
    "        x = self.dense(x)\n",
    "        return x"
   ]
  },
  {
   "cell_type": "code",
   "execution_count": null,
   "metadata": {},
   "outputs": [],
   "source": []
  },
  {
   "cell_type": "code",
   "execution_count": 983,
   "metadata": {},
   "outputs": [],
   "source": [
    "class PMDataset(Dataset):\n",
    "    # We could also define our constructor to take a pandas dataframe and extract the \n",
    "    # features / targets directly. Notice that we must also specify a sequence length\n",
    "    def __init__(self, X, y, seq_len, enforce_shape=False):\n",
    "        self.X = torch.Tensor(X)\n",
    "        self.y = torch.Tensor(y)\n",
    "        self.added = 0\n",
    "        # We need the Tensors to be of a length divisible by the sequence length\n",
    "        if enforce_shape and (X.shape[0] % seq_len != 0):\n",
    "            # Pad with zeros\n",
    "            self.X = torch.cat([self.X, torch.zeros(seq_len - X.shape[0] % seq_len, *self.X.shape[1:])])\n",
    "            self.y = torch.cat([self.y, torch.zeros(seq_len - y.shape[0] % seq_len, *self.y.shape[1:])])\n",
    "            self.added = seq_len - X.shape[0] % seq_len\n",
    "        self.seq_len = seq_len\n",
    "\n",
    "    def __len__(self):\n",
    "        return (self.y.shape[0] - self.seq_len) // self.seq_len + 1\n",
    "    \n",
    "    def __getitem__(self, idx):\n",
    "        idx *= self.seq_len\n",
    "        return self.X[idx:idx+self.seq_len], self.y[idx:idx+self.seq_len]"
   ]
  },
  {
   "cell_type": "code",
   "execution_count": 1059,
   "metadata": {},
   "outputs": [],
   "source": [
    "from sklearn.preprocessing import StandardScaler"
   ]
  },
  {
   "cell_type": "code",
   "execution_count": 1064,
   "metadata": {},
   "outputs": [],
   "source": [
    "def make_lstm_preds(df_train, df_test, batch_size=128, seq_len=96, n_epochs=50):\n",
    "    device = torch.device(\"cuda\" if torch.cuda.is_available() else \"cpu\")   \n",
    "    # Use mean-square error as a loss\n",
    "    loss_fn = nn.MSELoss()\n",
    "\n",
    "    preds = {}\n",
    "\n",
    "    \n",
    "    for city in tqdm(cities, total=len(cities), unit=\"city\", desc=\"Fitting models\"):\n",
    "        dfx = df_train.xs(city, level=\"city\").copy()\n",
    "        dfy = df_test.xs(city, level=\"city\").copy()\n",
    "        dfx.ffill(inplace=True)\n",
    "        dfy.ffill(inplace=True)\n",
    "\n",
    "        X_train = dfx.drop(columns=[\"y\", \"PM2.5\", \"logy\"])\n",
    "        y_train = dfx[\"logy\"].values.reshape(-1, 1)\n",
    "\n",
    "        X_test = dfy.drop(columns=[\"y\", \"PM2.5\", \"logy\"])\n",
    "        y_test = dfy[\"logy\"].values.reshape(-1, 1)\n",
    "\n",
    "        scaler = StandardScaler().fit(X_train)\n",
    "        X_train = scaler.transform(X_train)\n",
    "        X_test = scaler.transform(X_test)\n",
    "\n",
    "        dsx = PMDataset(X=X_train, y=y_train, seq_len=seq_len)\n",
    "        dsy = PMDataset(X=X_test, y=y_test, seq_len=seq_len, enforce_shape=True)\n",
    "        dlx = DataLoader(dsx, batch_size=batch_size, shuffle=True)\n",
    "        dly = DataLoader(dsy, batch_size=1, shuffle=False)\n",
    "\n",
    "        nnet = SimpleLSTM(X_train.shape[1], 128, 1).to(device)\n",
    "\n",
    "        opt = optim.Adam(nnet.parameters(), lr=1e-4)\n",
    "        sched = lr_scheduler.OneCycleLR(opt, max_lr=0.01, \n",
    "                                        steps_per_epoch=len(dlx), \n",
    "                                        epochs=n_epochs) \n",
    "\n",
    "        for epoch in range(n_epochs):\n",
    "            nnet.train()\n",
    "\n",
    "            for X, y in dlx:\n",
    "                # Pass the batch to the GPU\n",
    "                X = X.to(device)\n",
    "                y = y.to(device)\n",
    "\n",
    "                # Reset the gradients\n",
    "                opt.zero_grad()\n",
    "\n",
    "                # Compute the forward pass\n",
    "                y_pred = nnet(X)\n",
    "                \n",
    "                # Compute the loss\n",
    "                loss = loss_fn(y, y_pred)\n",
    "\n",
    "                # Compute the gradients\n",
    "                loss.backward()\n",
    "\n",
    "                # Update the parameters\n",
    "                opt.step()\n",
    "                sched.step()\n",
    "\n",
    "        # Make predictions\n",
    "        nnet.eval()\n",
    "        y_pred = []\n",
    "        with torch.no_grad():\n",
    "            for X, y in dly:\n",
    "                X = X.to(device)\n",
    "                y_pred.append(nnet(X).cpu().numpy())\n",
    "\n",
    "        y_pred = np.concatenate(y_pred).reshape(-1)[:-dsy.added]\n",
    "\n",
    "        preds[city] = np.exp(y_pred)\n",
    "\n",
    "    return preds"
   ]
  },
  {
   "cell_type": "code",
   "execution_count": 1065,
   "metadata": {},
   "outputs": [
    {
     "name": "stderr",
     "output_type": "stream",
     "text": [
      "Fitting models: 100%|██████████| 12/12 [00:12<00:00,  1.03s/city]\n"
     ]
    }
   ],
   "source": [
    "preds = make_lstm_preds(df, df_test)\n",
    "preds = pd.DataFrame(preds, index=df_test.index.get_level_values(\"date\").unique())"
   ]
  },
  {
   "cell_type": "code",
   "execution_count": 1066,
   "metadata": {},
   "outputs": [],
   "source": [
    "df_preds = pd.melt(preds, ignore_index=False).rename(columns={\"variable\": \"city\", \"value\": \"y\"})\n",
    "df_preds[\"date\"] = df_preds.index\n",
    "df_preds = df_preds.set_index([\"date\", \"city\"]).sort_index(level=[0, 1])"
   ]
  },
  {
   "cell_type": "code",
   "execution_count": 1067,
   "metadata": {},
   "outputs": [
    {
     "data": {
      "text/html": [
       "<div>\n",
       "<style scoped>\n",
       "    .dataframe tbody tr th:only-of-type {\n",
       "        vertical-align: middle;\n",
       "    }\n",
       "\n",
       "    .dataframe tbody tr th {\n",
       "        vertical-align: top;\n",
       "    }\n",
       "\n",
       "    .dataframe thead th {\n",
       "        text-align: right;\n",
       "    }\n",
       "</style>\n",
       "<table border=\"1\" class=\"dataframe\">\n",
       "  <thead>\n",
       "    <tr style=\"text-align: right;\">\n",
       "      <th></th>\n",
       "      <th>loss</th>\n",
       "    </tr>\n",
       "  </thead>\n",
       "  <tbody>\n",
       "    <tr>\n",
       "      <th>Agra</th>\n",
       "      <td>4986.985958</td>\n",
       "    </tr>\n",
       "    <tr>\n",
       "      <th>Ahmedabad</th>\n",
       "      <td>5510.946420</td>\n",
       "    </tr>\n",
       "    <tr>\n",
       "      <th>Bengaluru</th>\n",
       "      <td>226.999497</td>\n",
       "    </tr>\n",
       "    <tr>\n",
       "      <th>Chennai</th>\n",
       "      <td>506.035938</td>\n",
       "    </tr>\n",
       "    <tr>\n",
       "      <th>Delhi</th>\n",
       "      <td>1955.885491</td>\n",
       "    </tr>\n",
       "    <tr>\n",
       "      <th>Hyderabad</th>\n",
       "      <td>161.007388</td>\n",
       "    </tr>\n",
       "    <tr>\n",
       "      <th>Kanpur</th>\n",
       "      <td>2873.046097</td>\n",
       "    </tr>\n",
       "    <tr>\n",
       "      <th>Kolkata</th>\n",
       "      <td>264.071180</td>\n",
       "    </tr>\n",
       "    <tr>\n",
       "      <th>Lucknow</th>\n",
       "      <td>3001.634197</td>\n",
       "    </tr>\n",
       "    <tr>\n",
       "      <th>Mumbai</th>\n",
       "      <td>290.782229</td>\n",
       "    </tr>\n",
       "    <tr>\n",
       "      <th>Noida</th>\n",
       "      <td>2535.188560</td>\n",
       "    </tr>\n",
       "    <tr>\n",
       "      <th>Patna</th>\n",
       "      <td>808.776953</td>\n",
       "    </tr>\n",
       "    <tr>\n",
       "      <th>All</th>\n",
       "      <td>1916.038089</td>\n",
       "    </tr>\n",
       "  </tbody>\n",
       "</table>\n",
       "</div>"
      ],
      "text/plain": [
       "                  loss\n",
       "Agra       4986.985958\n",
       "Ahmedabad  5510.946420\n",
       "Bengaluru   226.999497\n",
       "Chennai     506.035938\n",
       "Delhi      1955.885491\n",
       "Hyderabad   161.007388\n",
       "Kanpur     2873.046097\n",
       "Kolkata     264.071180\n",
       "Lucknow    3001.634197\n",
       "Mumbai      290.782229\n",
       "Noida      2535.188560\n",
       "Patna       808.776953\n",
       "All        1916.038089"
      ]
     },
     "execution_count": 1067,
     "metadata": {},
     "output_type": "execute_result"
    }
   ],
   "source": [
    "meval.compare(df_preds[\"y\"])"
   ]
  },
  {
   "cell_type": "code",
   "execution_count": 1046,
   "metadata": {},
   "outputs": [],
   "source": [
    "city = \"Delhi\""
   ]
  },
  {
   "cell_type": "code",
   "execution_count": 1047,
   "metadata": {},
   "outputs": [],
   "source": [
    "dfx = df.xs(city, level=\"city\").copy()\n",
    "dfy = df_test.xs(city, level=\"city\").copy()\n",
    "dfy.ffill(inplace=True) # Fill NaNs with last known value"
   ]
  },
  {
   "cell_type": "code",
   "execution_count": 1048,
   "metadata": {},
   "outputs": [],
   "source": [
    "X_train = dfx.drop(columns=[\"y\", \"PM2.5\", \"logy\"])\n",
    "y_train = dfx[\"logy\"].values.reshape(-1, 1)\n",
    "\n",
    "X_test = dfy.drop(columns=[\"y\", \"PM2.5\", \"logy\"])\n",
    "y_test = dfy[\"logy\"].values.reshape(-1, 1)\n",
    "\n",
    "scaler = StandardScaler().fit(X_train)\n",
    "X_train = scaler.transform(X_train)\n",
    "X_test = scaler.transform(X_test)"
   ]
  },
  {
   "cell_type": "code",
   "execution_count": 1049,
   "metadata": {},
   "outputs": [],
   "source": [
    "ds = PMDataset(X=X_train, y=y_train, seq_len=96)\n",
    "val_ds = PMDataset(X=X_test, y=y_test, seq_len=96, enforce_shape=True)\n",
    "\n",
    "dl = DataLoader(ds, batch_size=128, shuffle=True)\n",
    "val_dl = DataLoader(val_ds, batch_size=128, shuffle=False)"
   ]
  },
  {
   "cell_type": "code",
   "execution_count": 1050,
   "metadata": {},
   "outputs": [],
   "source": [
    "device = torch.device(\"cuda\" if torch.cuda.is_available() else \"cpu\")\n",
    "nnet = SimpleLSTM(X_train.shape[1], 128, 1).to(device)"
   ]
  },
  {
   "cell_type": "code",
   "execution_count": 1051,
   "metadata": {},
   "outputs": [],
   "source": [
    "epochs = 50\n",
    "# Use mean-square error as a loss\n",
    "loss_fn = nn.MSELoss()\n",
    "\n",
    "# Instantiate Adam optimizer with learning rate 0.0001<\n",
    "opt = optim.Adam(nnet.parameters(), lr=1e-4)\n",
    "sched = lr_scheduler.OneCycleLR(opt, max_lr=0.01, steps_per_epoch=len(dl), epochs=epochs)"
   ]
  },
  {
   "cell_type": "code",
   "execution_count": 1052,
   "metadata": {},
   "outputs": [
    {
     "name": "stderr",
     "output_type": "stream",
     "text": [
      "Fitting Model...: 100%|██████████| 50/50 [00:00<00:00, 55.32epoch/s]\n"
     ]
    }
   ],
   "source": [
    "losses = np.zeros(epochs)\n",
    "val_losses = np.zeros(epochs)\n",
    "for epoch in tqdm(range(epochs), unit=\"epoch\", desc=\"Fitting Model...\", total=epochs):\n",
    "    nnet.train()\n",
    "\n",
    "    for X, y in dl:\n",
    "        # Pass the batch to the GPU\n",
    "        X = X.to(device)\n",
    "        y = y.to(device)\n",
    "\n",
    "        # Reset the gradients\n",
    "        opt.zero_grad()\n",
    "\n",
    "        # Compute the forward pass\n",
    "        y_pred = nnet(X)\n",
    "        \n",
    "        # Compute the loss\n",
    "        loss = loss_fn(y, y_pred)\n",
    "        with torch.no_grad():\n",
    "            loss_ = loss_fn(torch.exp(y), torch.exp(y_pred))\n",
    "        \n",
    "        # Compute the gradients\n",
    "        loss.backward()\n",
    "\n",
    "        # Update the parameters\n",
    "        opt.step()\n",
    "        sched.step()\n",
    "\n",
    "        # Store the epoch average losses to plot later on\n",
    "        losses[epoch] += loss_.detach().cpu().numpy() / y.shape[0]\n",
    "\n",
    "    with torch.no_grad():\n",
    "        nnet.eval()\n",
    "        for X, y in val_dl:\n",
    "            # Pass the batch to the GPU\n",
    "            X = X.to(device)\n",
    "            y = y.to(device)\n",
    "\n",
    "            # Compute the forward pass\n",
    "            y_pred = nnet(X)\n",
    "            \n",
    "            # Compute the loss\n",
    "            loss = loss_fn(torch.exp(y), torch.exp(y_pred))\n",
    "\n",
    "            # Store the epoch average losses to plot later on\n",
    "            val_losses[epoch] += loss.detach().cpu().numpy() / y.shape[0]\n",
    "\n",
    "    \n",
    "\n"
   ]
  },
  {
   "cell_type": "code",
   "execution_count": 1053,
   "metadata": {},
   "outputs": [
    {
     "data": {
      "image/png": "[encoded data removed]",
      "text/plain": [
       "<Figure size 640x480 with 1 Axes>"
      ]
     },
     "metadata": {},
     "output_type": "display_data"
    }
   ],
   "source": [
    "fig, ax = plt.subplots()\n",
    "\n",
    "ax.plot(losses[:50], label=\"Training Loss\")\n",
    "ax.plot(val_losses[:100], label=\"Validation Loss\")\n",
    "ax.grid(alpha=.3)"
   ]
  },
  {
   "cell_type": "code",
   "execution_count": 1054,
   "metadata": {},
   "outputs": [],
   "source": [
    "nnet.eval()\n",
    "ys = []\n",
    "ys_pred = []\n",
    "for X, y in val_dl:\n",
    "    ys.append(y.detach().cpu().numpy())\n",
    "    ys_pred.append(nnet(X.to(device)).detach().cpu().numpy())"
   ]
  },
  {
   "cell_type": "code",
   "execution_count": 1055,
   "metadata": {},
   "outputs": [],
   "source": [
    "ys = np.concatenate([y.flatten() for y in ys])\n",
    "preds = np.concatenate([y_pred.flatten() for y_pred in ys_pred])"
   ]
  },
  {
   "cell_type": "code",
   "execution_count": 1056,
   "metadata": {},
   "outputs": [
    {
     "data": {
      "text/plain": [
       "[<matplotlib.lines.Line2D at 0x7f31dcaafe50>]"
      ]
     },
     "execution_count": 1056,
     "metadata": {},
     "output_type": "execute_result"
    },
    {
     "data": {
      "image/png": "[encoded data removed]",
      "text/plain": [
       "<Figure size 640x480 with 1 Axes>"
      ]
     },
     "metadata": {},
     "output_type": "display_data"
    }
   ],
   "source": [
    "plt.plot(np.exp(ys))\n",
    "plt.plot(np.exp(preds))"
   ]
  },
  {
   "cell_type": "code",
   "execution_count": 1057,
   "metadata": {},
   "outputs": [
    {
     "data": {
      "text/plain": [
       "3776.8423"
      ]
     },
     "execution_count": 1057,
     "metadata": {},
     "output_type": "execute_result"
    }
   ],
   "source": [
    "((np.exp(ys) - np.exp(preds)) ** 2).mean()"
   ]
  },
  {
   "cell_type": "code",
   "execution_count": 1058,
   "metadata": {},
   "outputs": [
    {
     "data": {
      "text/plain": [
       "array([  38.92826512,   38.8358172 ,   38.58952177,   36.52345165,\n",
       "         34.86622863, 1564.09714674,    9.41290106,   11.91538847,\n",
       "        209.04037874,  102.39800583,   10.97718347,  157.04496433,\n",
       "         79.60769786,   32.42358398,  132.40268342,   38.67554419,\n",
       "         71.01152768,   62.55706522,   51.55682815,   72.50223619,\n",
       "         53.23240772,   71.86875142,   53.94384412,   57.01431584,\n",
       "         71.10286458,   56.64661883,   66.12207031,   65.95076851,\n",
       "         53.60660807,   62.8518031 ,   57.74377618,   59.10189864,\n",
       "         53.28671663,   49.34883449,   58.05833899,   61.74139493,\n",
       "         55.26615928,   51.28910142,   53.74118971,   55.97891191,\n",
       "         55.80097939,   55.03119339,   54.54856275,   54.21263233,\n",
       "         54.32885035,   54.63047724,   54.75396286,   54.74657142,\n",
       "         54.73780358,   54.73684471])"
      ]
     },
     "execution_count": 1058,
     "metadata": {},
     "output_type": "execute_result"
    }
   ],
   "source": [
    "val_losses"
   ]
  },
  {
   "cell_type": "code",
   "execution_count": 273,
   "metadata": {},
   "outputs": [
    {
     "data": {
      "text/plain": [
       "array([nan, nan, nan, nan, nan, nan, nan, nan, nan, nan])"
      ]
     },
     "execution_count": 273,
     "metadata": {},
     "output_type": "execute_result"
    }
   ],
   "source": [
    "val_losses"
   ]
  },
  {
   "cell_type": "code",
   "execution_count": 142,
   "metadata": {},
   "outputs": [
    {
     "data": {
      "text/plain": [
       "array([1.06422936, 1.03229261, 0.82521286, 0.799997  , 0.98873924,\n",
       "       0.94004444, 1.05428016, 1.04951282, 1.04496835, 1.04380196])"
      ]
     },
     "execution_count": 142,
     "metadata": {},
     "output_type": "execute_result"
    }
   ],
   "source": [
    "losses"
   ]
  },
  {
   "cell_type": "code",
   "execution_count": 143,
   "metadata": {},
   "outputs": [
    {
     "data": {
      "text/plain": [
       "tensor([[[3.8177, 3.3510, 3.0473,  ..., 2.6214, 2.9390, 2.4849],\n",
       "         [3.7842, 3.4855, 3.0986,  ..., 2.7877, 2.9964, 3.4012],\n",
       "         [3.6951, 3.5392, 3.2024,  ..., 2.8056, 3.1218, 3.7899],\n",
       "         ...,\n",
       "         [3.4095, 3.4788, 2.8215,  ..., 2.8888, 3.9935, 4.1705],\n",
       "         [3.6951, 3.5681, 2.8783,  ..., 3.0389, 4.0425, 3.9608],\n",
       "         [4.0518, 3.5954, 3.0062,  ..., 2.6522, 3.8944, 3.7495]],\n",
       "\n",
       "        [[3.2056, 3.5441, 3.1989,  ..., 3.3666, 3.7248, 3.8395],\n",
       "         [3.1210, 4.0630, 3.2340,  ..., 3.3813, 3.5472, 3.7842],\n",
       "         [3.1570, 4.2971, 3.2834,  ..., 3.5322, 3.8073, 3.9020],\n",
       "         ...,\n",
       "         [4.3108, 4.5317, 3.7894,  ..., 3.3841, 4.9416, 4.0561],\n",
       "         [3.6889, 4.1339, 3.7186,  ..., 3.4059, 4.6268, 3.8501],\n",
       "         [3.4735, 3.7109, 3.7101,  ..., 4.5747, 4.4542, 3.7670]],\n",
       "\n",
       "        [[3.8501, 4.2946, 2.9114,  ..., 2.4236, 4.1039, 4.0164],\n",
       "         [3.9120, 4.2364, 3.1859,  ..., 2.4306, 3.8492, 4.1150],\n",
       "         [3.8501, 4.0091, 3.2810,  ..., 2.3982, 3.5203, 3.9020],\n",
       "         ...,\n",
       "         [3.8660, 4.0608, 2.7679,  ..., 1.7187, 4.0363, 2.7568],\n",
       "         [3.8607, 4.2145, 2.9118,  ..., 1.3558, 4.0882, 1.5041],\n",
       "         [3.9120, 4.4826, 3.1244,  ..., 1.6644, 3.9986, 2.9832]],\n",
       "\n",
       "        ...,\n",
       "\n",
       "        [[4.0387, 3.9435, 2.8651,  ..., 4.3152, 4.7465, 4.7770],\n",
       "         [4.3470, 4.2456, 2.9872,  ..., 4.3152, 4.6226, 5.1576],\n",
       "         [4.5901, 4.1076, 3.0603,  ..., 4.3152, 4.6017, 5.1985],\n",
       "         ...,\n",
       "         [4.9273, 3.9797, 3.1883,  ..., 4.3152, 4.1251, 4.8997],\n",
       "         [4.8559, 3.9797, 3.1430,  ..., 4.3152, 4.1801, 4.7514],\n",
       "         [4.8416, 3.9797, 3.0857,  ..., 4.3152, 4.2323, 4.9016]],\n",
       "\n",
       "        [[3.9936, 4.4828, 3.3978,  ..., 4.4658, 4.0013, 3.6870],\n",
       "         [3.9750, 4.3481, 3.4240,  ..., 4.3288, 3.9138, 3.9712],\n",
       "         [4.1190, 4.2344, 3.4771,  ..., 4.4190, 4.0625, 3.8587],\n",
       "         ...,\n",
       "         [3.9054, 5.5355, 3.9991,  ..., 3.6022, 5.0979, 3.6474],\n",
       "         [3.8358, 5.4533, 3.9640,  ..., 3.4545, 5.1159, 3.5399],\n",
       "         [3.9982, 5.2906, 3.7278,  ..., 3.4379, 5.1159, 3.4136]],\n",
       "\n",
       "        [[3.8985, 4.2899, 4.0227,  ..., 3.4843, 3.7765, 4.2532],\n",
       "         [3.8395, 4.0784, 3.8893,  ..., 3.3786, 4.1384, 4.7749],\n",
       "         [3.8358, 4.3750, 3.8422,  ..., 3.5278, 3.9352, 4.3567],\n",
       "         ...,\n",
       "         [4.1589, 5.2047, 3.5078,  ..., 3.9802, 4.8144, 4.6201],\n",
       "         [4.0387, 5.1770, 3.4455,  ..., 3.9593, 4.9671, 4.4485],\n",
       "         [4.0073, 5.1626, 3.2757,  ..., 4.0786, 4.8860, 4.4485]]],\n",
       "       device='cuda:0')"
      ]
     },
     "execution_count": 143,
     "metadata": {},
     "output_type": "execute_result"
    }
   ],
   "source": [
    "y"
   ]
  },
  {
   "cell_type": "code",
   "execution_count": 186,
   "metadata": {},
   "outputs": [
    {
     "data": {
      "text/plain": [
       "(79200, 1)"
      ]
     },
     "execution_count": 186,
     "metadata": {},
     "output_type": "execute_result"
    }
   ],
   "source": [
    "meval.y.shape"
   ]
  },
  {
   "cell_type": "code",
   "execution_count": 187,
   "metadata": {},
   "outputs": [
    {
     "data": {
      "text/plain": [
       "(79200, 100)"
      ]
     },
     "execution_count": 187,
     "metadata": {},
     "output_type": "execute_result"
    }
   ],
   "source": [
    "df_test.shape"
   ]
  },
  {
   "cell_type": "code",
   "execution_count": null,
   "metadata": {},
   "outputs": [],
   "source": []
  }
 ],
 "metadata": {
  "kernelspec": {
   "display_name": "emergent-ai",
   "language": "python",
   "name": "python3"
  },
  "language_info": {
   "codemirror_mode": {
    "name": "ipython",
    "version": 3
   },
   "file_extension": ".py",
   "mimetype": "text/x-python",
   "name": "python",
   "nbconvert_exporter": "python",
   "pygments_lexer": "ipython3",
   "version": "3.11.5"
  }
 },
 "nbformat": 4,
 "nbformat_minor": 2
}
